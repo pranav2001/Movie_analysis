{
 "cells": [
  {
   "cell_type": "code",
   "execution_count": 1,
   "id": "371269c3",
   "metadata": {},
   "outputs": [],
   "source": [
    "import numpy as np\n",
    "import pandas as pd\n",
    "import matplotlib.pyplot as plt\n",
    "import seaborn as sns\n",
    "import warnings\n",
    "warnings.filterwarnings('ignore')\n",
    "import missingno as msno\n",
    "sns.set()\n",
    "%matplotlib inline"
   ]
  },
  {
   "cell_type": "code",
   "execution_count": 2,
   "id": "1f06db10",
   "metadata": {},
   "outputs": [],
   "source": [
    "movies=pd.read_csv('movies.csv',encoding='ISO-8859-1')"
   ]
  },
  {
   "cell_type": "code",
   "execution_count": 3,
   "id": "4c0dbeab",
   "metadata": {
    "scrolled": false
   },
   "outputs": [
    {
     "data": {
      "text/html": [
       "<div>\n",
       "<style scoped>\n",
       "    .dataframe tbody tr th:only-of-type {\n",
       "        vertical-align: middle;\n",
       "    }\n",
       "\n",
       "    .dataframe tbody tr th {\n",
       "        vertical-align: top;\n",
       "    }\n",
       "\n",
       "    .dataframe thead th {\n",
       "        text-align: right;\n",
       "    }\n",
       "</style>\n",
       "<table border=\"1\" class=\"dataframe\">\n",
       "  <thead>\n",
       "    <tr style=\"text-align: right;\">\n",
       "      <th></th>\n",
       "      <th>budget</th>\n",
       "      <th>company</th>\n",
       "      <th>country</th>\n",
       "      <th>director</th>\n",
       "      <th>genre</th>\n",
       "      <th>gross</th>\n",
       "      <th>name</th>\n",
       "      <th>rating</th>\n",
       "      <th>released</th>\n",
       "      <th>runtime</th>\n",
       "      <th>score</th>\n",
       "      <th>star</th>\n",
       "      <th>votes</th>\n",
       "      <th>writer</th>\n",
       "      <th>year</th>\n",
       "    </tr>\n",
       "  </thead>\n",
       "  <tbody>\n",
       "    <tr>\n",
       "      <th>0</th>\n",
       "      <td>8000000.0</td>\n",
       "      <td>Columbia Pictures Corporation</td>\n",
       "      <td>USA</td>\n",
       "      <td>Rob Reiner</td>\n",
       "      <td>Adventure</td>\n",
       "      <td>52287414.0</td>\n",
       "      <td>Stand by Me</td>\n",
       "      <td>R</td>\n",
       "      <td>1986-08-22</td>\n",
       "      <td>89</td>\n",
       "      <td>8.1</td>\n",
       "      <td>Wil Wheaton</td>\n",
       "      <td>299174</td>\n",
       "      <td>Stephen King</td>\n",
       "      <td>1986</td>\n",
       "    </tr>\n",
       "    <tr>\n",
       "      <th>1</th>\n",
       "      <td>6000000.0</td>\n",
       "      <td>Paramount Pictures</td>\n",
       "      <td>USA</td>\n",
       "      <td>John Hughes</td>\n",
       "      <td>Comedy</td>\n",
       "      <td>70136369.0</td>\n",
       "      <td>Ferris Bueller's Day Off</td>\n",
       "      <td>PG-13</td>\n",
       "      <td>1986-06-11</td>\n",
       "      <td>103</td>\n",
       "      <td>7.8</td>\n",
       "      <td>Matthew Broderick</td>\n",
       "      <td>264740</td>\n",
       "      <td>John Hughes</td>\n",
       "      <td>1986</td>\n",
       "    </tr>\n",
       "    <tr>\n",
       "      <th>2</th>\n",
       "      <td>15000000.0</td>\n",
       "      <td>Paramount Pictures</td>\n",
       "      <td>USA</td>\n",
       "      <td>Tony Scott</td>\n",
       "      <td>Action</td>\n",
       "      <td>179800601.0</td>\n",
       "      <td>Top Gun</td>\n",
       "      <td>PG</td>\n",
       "      <td>1986-05-16</td>\n",
       "      <td>110</td>\n",
       "      <td>6.9</td>\n",
       "      <td>Tom Cruise</td>\n",
       "      <td>236909</td>\n",
       "      <td>Jim Cash</td>\n",
       "      <td>1986</td>\n",
       "    </tr>\n",
       "    <tr>\n",
       "      <th>3</th>\n",
       "      <td>18500000.0</td>\n",
       "      <td>Twentieth Century Fox Film Corporation</td>\n",
       "      <td>USA</td>\n",
       "      <td>James Cameron</td>\n",
       "      <td>Action</td>\n",
       "      <td>85160248.0</td>\n",
       "      <td>Aliens</td>\n",
       "      <td>R</td>\n",
       "      <td>1986-07-18</td>\n",
       "      <td>137</td>\n",
       "      <td>8.4</td>\n",
       "      <td>Sigourney Weaver</td>\n",
       "      <td>540152</td>\n",
       "      <td>James Cameron</td>\n",
       "      <td>1986</td>\n",
       "    </tr>\n",
       "    <tr>\n",
       "      <th>4</th>\n",
       "      <td>9000000.0</td>\n",
       "      <td>Walt Disney Pictures</td>\n",
       "      <td>USA</td>\n",
       "      <td>Randal Kleiser</td>\n",
       "      <td>Adventure</td>\n",
       "      <td>18564613.0</td>\n",
       "      <td>Flight of the Navigator</td>\n",
       "      <td>PG</td>\n",
       "      <td>1986-08-01</td>\n",
       "      <td>90</td>\n",
       "      <td>6.9</td>\n",
       "      <td>Joey Cramer</td>\n",
       "      <td>36636</td>\n",
       "      <td>Mark H. Baker</td>\n",
       "      <td>1986</td>\n",
       "    </tr>\n",
       "  </tbody>\n",
       "</table>\n",
       "</div>"
      ],
      "text/plain": [
       "       budget                                 company country        director  \\\n",
       "0   8000000.0           Columbia Pictures Corporation     USA      Rob Reiner   \n",
       "1   6000000.0                      Paramount Pictures     USA     John Hughes   \n",
       "2  15000000.0                      Paramount Pictures     USA      Tony Scott   \n",
       "3  18500000.0  Twentieth Century Fox Film Corporation     USA   James Cameron   \n",
       "4   9000000.0                    Walt Disney Pictures     USA  Randal Kleiser   \n",
       "\n",
       "       genre        gross                      name rating    released  \\\n",
       "0  Adventure   52287414.0               Stand by Me      R  1986-08-22   \n",
       "1     Comedy   70136369.0  Ferris Bueller's Day Off  PG-13  1986-06-11   \n",
       "2     Action  179800601.0                   Top Gun     PG  1986-05-16   \n",
       "3     Action   85160248.0                    Aliens      R  1986-07-18   \n",
       "4  Adventure   18564613.0   Flight of the Navigator     PG  1986-08-01   \n",
       "\n",
       "   runtime  score               star   votes         writer  year  \n",
       "0       89    8.1        Wil Wheaton  299174   Stephen King  1986  \n",
       "1      103    7.8  Matthew Broderick  264740    John Hughes  1986  \n",
       "2      110    6.9         Tom Cruise  236909       Jim Cash  1986  \n",
       "3      137    8.4   Sigourney Weaver  540152  James Cameron  1986  \n",
       "4       90    6.9        Joey Cramer   36636  Mark H. Baker  1986  "
      ]
     },
     "execution_count": 3,
     "metadata": {},
     "output_type": "execute_result"
    }
   ],
   "source": [
    "movies.head()"
   ]
  },
  {
   "cell_type": "code",
   "execution_count": 4,
   "id": "ece18265",
   "metadata": {},
   "outputs": [],
   "source": [
    "movies_edit=movies.copy(deep=True)"
   ]
  },
  {
   "cell_type": "code",
   "execution_count": 5,
   "id": "3f278d0c",
   "metadata": {
    "scrolled": true
   },
   "outputs": [
    {
     "data": {
      "text/html": [
       "<div>\n",
       "<style scoped>\n",
       "    .dataframe tbody tr th:only-of-type {\n",
       "        vertical-align: middle;\n",
       "    }\n",
       "\n",
       "    .dataframe tbody tr th {\n",
       "        vertical-align: top;\n",
       "    }\n",
       "\n",
       "    .dataframe thead th {\n",
       "        text-align: right;\n",
       "    }\n",
       "</style>\n",
       "<table border=\"1\" class=\"dataframe\">\n",
       "  <thead>\n",
       "    <tr style=\"text-align: right;\">\n",
       "      <th></th>\n",
       "      <th>budget</th>\n",
       "      <th>company</th>\n",
       "      <th>country</th>\n",
       "      <th>director</th>\n",
       "      <th>genre</th>\n",
       "      <th>gross</th>\n",
       "      <th>name</th>\n",
       "      <th>rating</th>\n",
       "      <th>released</th>\n",
       "      <th>runtime</th>\n",
       "      <th>score</th>\n",
       "      <th>star</th>\n",
       "      <th>votes</th>\n",
       "      <th>writer</th>\n",
       "      <th>year</th>\n",
       "    </tr>\n",
       "  </thead>\n",
       "  <tbody>\n",
       "    <tr>\n",
       "      <th>0</th>\n",
       "      <td>8000000.0</td>\n",
       "      <td>Columbia Pictures Corporation</td>\n",
       "      <td>USA</td>\n",
       "      <td>Rob Reiner</td>\n",
       "      <td>Adventure</td>\n",
       "      <td>52287414.0</td>\n",
       "      <td>Stand by Me</td>\n",
       "      <td>R</td>\n",
       "      <td>1986-08-22</td>\n",
       "      <td>89</td>\n",
       "      <td>8.1</td>\n",
       "      <td>Wil Wheaton</td>\n",
       "      <td>299174</td>\n",
       "      <td>Stephen King</td>\n",
       "      <td>1986</td>\n",
       "    </tr>\n",
       "    <tr>\n",
       "      <th>1</th>\n",
       "      <td>6000000.0</td>\n",
       "      <td>Paramount Pictures</td>\n",
       "      <td>USA</td>\n",
       "      <td>John Hughes</td>\n",
       "      <td>Comedy</td>\n",
       "      <td>70136369.0</td>\n",
       "      <td>Ferris Bueller's Day Off</td>\n",
       "      <td>PG-13</td>\n",
       "      <td>1986-06-11</td>\n",
       "      <td>103</td>\n",
       "      <td>7.8</td>\n",
       "      <td>Matthew Broderick</td>\n",
       "      <td>264740</td>\n",
       "      <td>John Hughes</td>\n",
       "      <td>1986</td>\n",
       "    </tr>\n",
       "    <tr>\n",
       "      <th>2</th>\n",
       "      <td>15000000.0</td>\n",
       "      <td>Paramount Pictures</td>\n",
       "      <td>USA</td>\n",
       "      <td>Tony Scott</td>\n",
       "      <td>Action</td>\n",
       "      <td>179800601.0</td>\n",
       "      <td>Top Gun</td>\n",
       "      <td>PG</td>\n",
       "      <td>1986-05-16</td>\n",
       "      <td>110</td>\n",
       "      <td>6.9</td>\n",
       "      <td>Tom Cruise</td>\n",
       "      <td>236909</td>\n",
       "      <td>Jim Cash</td>\n",
       "      <td>1986</td>\n",
       "    </tr>\n",
       "    <tr>\n",
       "      <th>3</th>\n",
       "      <td>18500000.0</td>\n",
       "      <td>Twentieth Century Fox Film Corporation</td>\n",
       "      <td>USA</td>\n",
       "      <td>James Cameron</td>\n",
       "      <td>Action</td>\n",
       "      <td>85160248.0</td>\n",
       "      <td>Aliens</td>\n",
       "      <td>R</td>\n",
       "      <td>1986-07-18</td>\n",
       "      <td>137</td>\n",
       "      <td>8.4</td>\n",
       "      <td>Sigourney Weaver</td>\n",
       "      <td>540152</td>\n",
       "      <td>James Cameron</td>\n",
       "      <td>1986</td>\n",
       "    </tr>\n",
       "    <tr>\n",
       "      <th>4</th>\n",
       "      <td>9000000.0</td>\n",
       "      <td>Walt Disney Pictures</td>\n",
       "      <td>USA</td>\n",
       "      <td>Randal Kleiser</td>\n",
       "      <td>Adventure</td>\n",
       "      <td>18564613.0</td>\n",
       "      <td>Flight of the Navigator</td>\n",
       "      <td>PG</td>\n",
       "      <td>1986-08-01</td>\n",
       "      <td>90</td>\n",
       "      <td>6.9</td>\n",
       "      <td>Joey Cramer</td>\n",
       "      <td>36636</td>\n",
       "      <td>Mark H. Baker</td>\n",
       "      <td>1986</td>\n",
       "    </tr>\n",
       "  </tbody>\n",
       "</table>\n",
       "</div>"
      ],
      "text/plain": [
       "       budget                                 company country        director  \\\n",
       "0   8000000.0           Columbia Pictures Corporation     USA      Rob Reiner   \n",
       "1   6000000.0                      Paramount Pictures     USA     John Hughes   \n",
       "2  15000000.0                      Paramount Pictures     USA      Tony Scott   \n",
       "3  18500000.0  Twentieth Century Fox Film Corporation     USA   James Cameron   \n",
       "4   9000000.0                    Walt Disney Pictures     USA  Randal Kleiser   \n",
       "\n",
       "       genre        gross                      name rating    released  \\\n",
       "0  Adventure   52287414.0               Stand by Me      R  1986-08-22   \n",
       "1     Comedy   70136369.0  Ferris Bueller's Day Off  PG-13  1986-06-11   \n",
       "2     Action  179800601.0                   Top Gun     PG  1986-05-16   \n",
       "3     Action   85160248.0                    Aliens      R  1986-07-18   \n",
       "4  Adventure   18564613.0   Flight of the Navigator     PG  1986-08-01   \n",
       "\n",
       "   runtime  score               star   votes         writer  year  \n",
       "0       89    8.1        Wil Wheaton  299174   Stephen King  1986  \n",
       "1      103    7.8  Matthew Broderick  264740    John Hughes  1986  \n",
       "2      110    6.9         Tom Cruise  236909       Jim Cash  1986  \n",
       "3      137    8.4   Sigourney Weaver  540152  James Cameron  1986  \n",
       "4       90    6.9        Joey Cramer   36636  Mark H. Baker  1986  "
      ]
     },
     "execution_count": 5,
     "metadata": {},
     "output_type": "execute_result"
    }
   ],
   "source": [
    "movies_edit.head()"
   ]
  },
  {
   "cell_type": "markdown",
   "id": "d91ab83f",
   "metadata": {},
   "source": [
    "#### This set has:\n",
    "##### 1.Numerical variables:budget,gross,runtime,score,votes\n",
    "##### 2.Categorical variables:country,genre,company,writer,star,rating,director\n",
    "##### 3.Dates: year,released"
   ]
  },
  {
   "cell_type": "markdown",
   "id": "0cb9b8b4",
   "metadata": {},
   "source": [
    "## Questions:\n",
    "#### 1) How many movies were released in per year\n",
    "#### 2.Find out the Oldest movie and the company that released the movie. Check out all the movies that the company has released and see the trend in score\n",
    "#### 3. Top 3 Companies with the most number of released movies\n",
    "#### 4.avg score that each of these companies get for their movies\n",
    "#### 5. Let us also look at the avg gross revenue of the three companies\n",
    "#### 6. Correlation analysis\n",
    "#### 7. Movies with score above 8\n",
    "#### 8.Let us see which director is the most consistent in terms of quality of movie\n",
    "#### 9.Which genre has the most number of 8.0 and above score\n",
    "#### 10. Movie stars who have starred in the most number of 8.0 and above score movies\n",
    "#### 11.Top 3 Countries with the most number of movies released"
   ]
  },
  {
   "cell_type": "markdown",
   "id": "72612e0f",
   "metadata": {},
   "source": [
    "##### Check for missing values"
   ]
  },
  {
   "cell_type": "code",
   "execution_count": 6,
   "id": "555c0cf6",
   "metadata": {
    "scrolled": false
   },
   "outputs": [
    {
     "data": {
      "text/plain": [
       "<AxesSubplot:>"
      ]
     },
     "execution_count": 6,
     "metadata": {},
     "output_type": "execute_result"
    },
    {
     "data": {
      "image/png": "[encoded data removed]",
      "text/plain": [
       "<Figure size 1800x720 with 2 Axes>"
      ]
     },
     "metadata": {
      "needs_background": "light"
     },
     "output_type": "display_data"
    }
   ],
   "source": [
    "msno.matrix(movies)"
   ]
  },
  {
   "cell_type": "code",
   "execution_count": 7,
   "id": "7b9f3f28",
   "metadata": {
    "scrolled": false
   },
   "outputs": [
    {
     "name": "stdout",
     "output_type": "stream",
     "text": [
      "<class 'pandas.core.frame.DataFrame'>\n",
      "RangeIndex: 6820 entries, 0 to 6819\n",
      "Data columns (total 15 columns):\n",
      " #   Column    Non-Null Count  Dtype  \n",
      "---  ------    --------------  -----  \n",
      " 0   budget    6820 non-null   float64\n",
      " 1   company   6820 non-null   object \n",
      " 2   country   6820 non-null   object \n",
      " 3   director  6820 non-null   object \n",
      " 4   genre     6820 non-null   object \n",
      " 5   gross     6820 non-null   float64\n",
      " 6   name      6820 non-null   object \n",
      " 7   rating    6820 non-null   object \n",
      " 8   released  6820 non-null   object \n",
      " 9   runtime   6820 non-null   int64  \n",
      " 10  score     6820 non-null   float64\n",
      " 11  star      6820 non-null   object \n",
      " 12  votes     6820 non-null   int64  \n",
      " 13  writer    6820 non-null   object \n",
      " 14  year      6820 non-null   int64  \n",
      "dtypes: float64(3), int64(3), object(9)\n",
      "memory usage: 799.3+ KB\n"
     ]
    }
   ],
   "source": [
    "movies.info()"
   ]
  },
  {
   "cell_type": "markdown",
   "id": "f7574a13",
   "metadata": {},
   "source": [
    "#### ~There are not missing values in any of the columns"
   ]
  },
  {
   "cell_type": "markdown",
   "id": "c3268f42",
   "metadata": {},
   "source": [
    "#### Convert \"released\" datatype to datetime"
   ]
  },
  {
   "cell_type": "code",
   "execution_count": 8,
   "id": "1d39b380",
   "metadata": {},
   "outputs": [],
   "source": [
    "movies_edit['released']=pd.to_datetime(movies_edit['released'])"
   ]
  },
  {
   "cell_type": "code",
   "execution_count": 9,
   "id": "678e019e",
   "metadata": {},
   "outputs": [
    {
     "name": "stdout",
     "output_type": "stream",
     "text": [
      "<class 'pandas.core.frame.DataFrame'>\n",
      "RangeIndex: 6820 entries, 0 to 6819\n",
      "Data columns (total 15 columns):\n",
      " #   Column    Non-Null Count  Dtype         \n",
      "---  ------    --------------  -----         \n",
      " 0   budget    6820 non-null   float64       \n",
      " 1   company   6820 non-null   object        \n",
      " 2   country   6820 non-null   object        \n",
      " 3   director  6820 non-null   object        \n",
      " 4   genre     6820 non-null   object        \n",
      " 5   gross     6820 non-null   float64       \n",
      " 6   name      6820 non-null   object        \n",
      " 7   rating    6820 non-null   object        \n",
      " 8   released  6820 non-null   datetime64[ns]\n",
      " 9   runtime   6820 non-null   int64         \n",
      " 10  score     6820 non-null   float64       \n",
      " 11  star      6820 non-null   object        \n",
      " 12  votes     6820 non-null   int64         \n",
      " 13  writer    6820 non-null   object        \n",
      " 14  year      6820 non-null   int64         \n",
      "dtypes: datetime64[ns](1), float64(3), int64(3), object(8)\n",
      "memory usage: 799.3+ KB\n"
     ]
    }
   ],
   "source": [
    "movies_edit.info()"
   ]
  },
  {
   "cell_type": "markdown",
   "id": "a10eb8db",
   "metadata": {},
   "source": [
    "#### Sumary statistics for numerical variables "
   ]
  },
  {
   "cell_type": "code",
   "execution_count": 10,
   "id": "5020b73f",
   "metadata": {
    "scrolled": false
   },
   "outputs": [
    {
     "data": {
      "text/html": [
       "<div>\n",
       "<style scoped>\n",
       "    .dataframe tbody tr th:only-of-type {\n",
       "        vertical-align: middle;\n",
       "    }\n",
       "\n",
       "    .dataframe tbody tr th {\n",
       "        vertical-align: top;\n",
       "    }\n",
       "\n",
       "    .dataframe thead th {\n",
       "        text-align: right;\n",
       "    }\n",
       "</style>\n",
       "<table border=\"1\" class=\"dataframe\">\n",
       "  <thead>\n",
       "    <tr style=\"text-align: right;\">\n",
       "      <th></th>\n",
       "      <th>budget</th>\n",
       "      <th>gross</th>\n",
       "      <th>runtime</th>\n",
       "      <th>score</th>\n",
       "      <th>votes</th>\n",
       "      <th>year</th>\n",
       "    </tr>\n",
       "  </thead>\n",
       "  <tbody>\n",
       "    <tr>\n",
       "      <th>count</th>\n",
       "      <td>6.820000e+03</td>\n",
       "      <td>6.820000e+03</td>\n",
       "      <td>6820.00000</td>\n",
       "      <td>6820.000000</td>\n",
       "      <td>6.820000e+03</td>\n",
       "      <td>6820.000000</td>\n",
       "    </tr>\n",
       "    <tr>\n",
       "      <th>mean</th>\n",
       "      <td>2.458113e+07</td>\n",
       "      <td>3.349783e+07</td>\n",
       "      <td>106.55132</td>\n",
       "      <td>6.374897</td>\n",
       "      <td>7.121952e+04</td>\n",
       "      <td>2001.000293</td>\n",
       "    </tr>\n",
       "    <tr>\n",
       "      <th>std</th>\n",
       "      <td>3.702254e+07</td>\n",
       "      <td>5.819760e+07</td>\n",
       "      <td>18.02818</td>\n",
       "      <td>1.003142</td>\n",
       "      <td>1.305176e+05</td>\n",
       "      <td>8.944501</td>\n",
       "    </tr>\n",
       "    <tr>\n",
       "      <th>min</th>\n",
       "      <td>0.000000e+00</td>\n",
       "      <td>7.000000e+01</td>\n",
       "      <td>50.00000</td>\n",
       "      <td>1.500000</td>\n",
       "      <td>2.700000e+01</td>\n",
       "      <td>1986.000000</td>\n",
       "    </tr>\n",
       "    <tr>\n",
       "      <th>25%</th>\n",
       "      <td>0.000000e+00</td>\n",
       "      <td>1.515839e+06</td>\n",
       "      <td>95.00000</td>\n",
       "      <td>5.800000</td>\n",
       "      <td>7.665250e+03</td>\n",
       "      <td>1993.000000</td>\n",
       "    </tr>\n",
       "    <tr>\n",
       "      <th>50%</th>\n",
       "      <td>1.100000e+07</td>\n",
       "      <td>1.213568e+07</td>\n",
       "      <td>102.00000</td>\n",
       "      <td>6.400000</td>\n",
       "      <td>2.589250e+04</td>\n",
       "      <td>2001.000000</td>\n",
       "    </tr>\n",
       "    <tr>\n",
       "      <th>75%</th>\n",
       "      <td>3.200000e+07</td>\n",
       "      <td>4.006534e+07</td>\n",
       "      <td>115.00000</td>\n",
       "      <td>7.100000</td>\n",
       "      <td>7.581225e+04</td>\n",
       "      <td>2009.000000</td>\n",
       "    </tr>\n",
       "    <tr>\n",
       "      <th>max</th>\n",
       "      <td>3.000000e+08</td>\n",
       "      <td>9.366622e+08</td>\n",
       "      <td>366.00000</td>\n",
       "      <td>9.300000</td>\n",
       "      <td>1.861666e+06</td>\n",
       "      <td>2016.000000</td>\n",
       "    </tr>\n",
       "  </tbody>\n",
       "</table>\n",
       "</div>"
      ],
      "text/plain": [
       "             budget         gross     runtime        score         votes  \\\n",
       "count  6.820000e+03  6.820000e+03  6820.00000  6820.000000  6.820000e+03   \n",
       "mean   2.458113e+07  3.349783e+07   106.55132     6.374897  7.121952e+04   \n",
       "std    3.702254e+07  5.819760e+07    18.02818     1.003142  1.305176e+05   \n",
       "min    0.000000e+00  7.000000e+01    50.00000     1.500000  2.700000e+01   \n",
       "25%    0.000000e+00  1.515839e+06    95.00000     5.800000  7.665250e+03   \n",
       "50%    1.100000e+07  1.213568e+07   102.00000     6.400000  2.589250e+04   \n",
       "75%    3.200000e+07  4.006534e+07   115.00000     7.100000  7.581225e+04   \n",
       "max    3.000000e+08  9.366622e+08   366.00000     9.300000  1.861666e+06   \n",
       "\n",
       "              year  \n",
       "count  6820.000000  \n",
       "mean   2001.000293  \n",
       "std       8.944501  \n",
       "min    1986.000000  \n",
       "25%    1993.000000  \n",
       "50%    2001.000000  \n",
       "75%    2009.000000  \n",
       "max    2016.000000  "
      ]
     },
     "execution_count": 10,
     "metadata": {},
     "output_type": "execute_result"
    }
   ],
   "source": [
    "movies.describe()"
   ]
  },
  {
   "cell_type": "markdown",
   "id": "7e3169c0",
   "metadata": {},
   "source": [
    "#### ~The average film duration is 1hr 46 mins\n",
    "#### ~This dataset contains information ranging from 1986 - 2016\n",
    "#### ~The average rating for the movies present in this dataset is 6.3"
   ]
  },
  {
   "cell_type": "markdown",
   "id": "970b5171",
   "metadata": {},
   "source": [
    "#### Check if the values of the year column matches with the year in released column"
   ]
  },
  {
   "cell_type": "code",
   "execution_count": 11,
   "id": "66e3a251",
   "metadata": {},
   "outputs": [
    {
     "data": {
      "text/html": [
       "<div>\n",
       "<style scoped>\n",
       "    .dataframe tbody tr th:only-of-type {\n",
       "        vertical-align: middle;\n",
       "    }\n",
       "\n",
       "    .dataframe tbody tr th {\n",
       "        vertical-align: top;\n",
       "    }\n",
       "\n",
       "    .dataframe thead th {\n",
       "        text-align: right;\n",
       "    }\n",
       "</style>\n",
       "<table border=\"1\" class=\"dataframe\">\n",
       "  <thead>\n",
       "    <tr style=\"text-align: right;\">\n",
       "      <th></th>\n",
       "      <th>budget</th>\n",
       "      <th>company</th>\n",
       "      <th>country</th>\n",
       "      <th>director</th>\n",
       "      <th>genre</th>\n",
       "      <th>gross</th>\n",
       "      <th>name</th>\n",
       "      <th>rating</th>\n",
       "      <th>released</th>\n",
       "      <th>runtime</th>\n",
       "      <th>score</th>\n",
       "      <th>star</th>\n",
       "      <th>votes</th>\n",
       "      <th>writer</th>\n",
       "      <th>year</th>\n",
       "    </tr>\n",
       "  </thead>\n",
       "  <tbody>\n",
       "    <tr>\n",
       "      <th>5</th>\n",
       "      <td>6000000.0</td>\n",
       "      <td>Hemdale</td>\n",
       "      <td>UK</td>\n",
       "      <td>Oliver Stone</td>\n",
       "      <td>Drama</td>\n",
       "      <td>138530565.0</td>\n",
       "      <td>Platoon</td>\n",
       "      <td>R</td>\n",
       "      <td>1987-02-06</td>\n",
       "      <td>120</td>\n",
       "      <td>8.1</td>\n",
       "      <td>Charlie Sheen</td>\n",
       "      <td>317585</td>\n",
       "      <td>Oliver Stone</td>\n",
       "      <td>1986</td>\n",
       "    </tr>\n",
       "    <tr>\n",
       "      <th>29</th>\n",
       "      <td>1900000.0</td>\n",
       "      <td>Hemdale</td>\n",
       "      <td>USA</td>\n",
       "      <td>Tim Hunter</td>\n",
       "      <td>Crime</td>\n",
       "      <td>4600000.0</td>\n",
       "      <td>River's Edge</td>\n",
       "      <td>R</td>\n",
       "      <td>1987-05-08</td>\n",
       "      <td>99</td>\n",
       "      <td>7.1</td>\n",
       "      <td>Crispin Glover</td>\n",
       "      <td>12862</td>\n",
       "      <td>Neal Jimenez</td>\n",
       "      <td>1986</td>\n",
       "    </tr>\n",
       "    <tr>\n",
       "      <th>50</th>\n",
       "      <td>111000.0</td>\n",
       "      <td>Maljack Productions</td>\n",
       "      <td>USA</td>\n",
       "      <td>John McNaughton</td>\n",
       "      <td>Biography</td>\n",
       "      <td>609939.0</td>\n",
       "      <td>Henry: Portrait of a Serial Killer</td>\n",
       "      <td>UNRATED</td>\n",
       "      <td>1990-09-07</td>\n",
       "      <td>83</td>\n",
       "      <td>7.0</td>\n",
       "      <td>Michael Rooker</td>\n",
       "      <td>25367</td>\n",
       "      <td>Richard Fire</td>\n",
       "      <td>1986</td>\n",
       "    </tr>\n",
       "    <tr>\n",
       "      <th>60</th>\n",
       "      <td>6000000.0</td>\n",
       "      <td>De Haven Productions</td>\n",
       "      <td>UK</td>\n",
       "      <td>David Anspaugh</td>\n",
       "      <td>Drama</td>\n",
       "      <td>28607524.0</td>\n",
       "      <td>Hoosiers</td>\n",
       "      <td>PG</td>\n",
       "      <td>1987-02-27</td>\n",
       "      <td>114</td>\n",
       "      <td>7.6</td>\n",
       "      <td>Gene Hackman</td>\n",
       "      <td>36604</td>\n",
       "      <td>Angelo Pizzo</td>\n",
       "      <td>1986</td>\n",
       "    </tr>\n",
       "    <tr>\n",
       "      <th>85</th>\n",
       "      <td>0.0</td>\n",
       "      <td>Fuji Television Network</td>\n",
       "      <td>Japan</td>\n",
       "      <td>Masanori Hata</td>\n",
       "      <td>Adventure</td>\n",
       "      <td>13245219.0</td>\n",
       "      <td>The Adventures of Milo and Otis</td>\n",
       "      <td>G</td>\n",
       "      <td>1989-08-25</td>\n",
       "      <td>90</td>\n",
       "      <td>7.1</td>\n",
       "      <td>Kyôko Koizumi</td>\n",
       "      <td>9178</td>\n",
       "      <td>Masanori Hata</td>\n",
       "      <td>1986</td>\n",
       "    </tr>\n",
       "    <tr>\n",
       "      <th>...</th>\n",
       "      <td>...</td>\n",
       "      <td>...</td>\n",
       "      <td>...</td>\n",
       "      <td>...</td>\n",
       "      <td>...</td>\n",
       "      <td>...</td>\n",
       "      <td>...</td>\n",
       "      <td>...</td>\n",
       "      <td>...</td>\n",
       "      <td>...</td>\n",
       "      <td>...</td>\n",
       "      <td>...</td>\n",
       "      <td>...</td>\n",
       "      <td>...</td>\n",
       "      <td>...</td>\n",
       "    </tr>\n",
       "    <tr>\n",
       "      <th>6785</th>\n",
       "      <td>21500000.0</td>\n",
       "      <td>42</td>\n",
       "      <td>UK</td>\n",
       "      <td>Eran Creevy</td>\n",
       "      <td>Action</td>\n",
       "      <td>2280004.0</td>\n",
       "      <td>Collide</td>\n",
       "      <td>PG-13</td>\n",
       "      <td>2017-02-24</td>\n",
       "      <td>99</td>\n",
       "      <td>5.7</td>\n",
       "      <td>Nicholas Hoult</td>\n",
       "      <td>9617</td>\n",
       "      <td>F. Scott Frazier</td>\n",
       "      <td>2016</td>\n",
       "    </tr>\n",
       "    <tr>\n",
       "      <th>6791</th>\n",
       "      <td>0.0</td>\n",
       "      <td>AZ Films</td>\n",
       "      <td>Chile</td>\n",
       "      <td>Pablo Larraín</td>\n",
       "      <td>Biography</td>\n",
       "      <td>938875.0</td>\n",
       "      <td>Neruda</td>\n",
       "      <td>R</td>\n",
       "      <td>2017-03-10</td>\n",
       "      <td>107</td>\n",
       "      <td>7.0</td>\n",
       "      <td>Gael García Bernal</td>\n",
       "      <td>5680</td>\n",
       "      <td>Guillermo Calderón</td>\n",
       "      <td>2016</td>\n",
       "    </tr>\n",
       "    <tr>\n",
       "      <th>6802</th>\n",
       "      <td>0.0</td>\n",
       "      <td>Mandarin Films</td>\n",
       "      <td>France</td>\n",
       "      <td>François Ozon</td>\n",
       "      <td>Drama</td>\n",
       "      <td>880474.0</td>\n",
       "      <td>Frantz</td>\n",
       "      <td>PG-13</td>\n",
       "      <td>2017-03-15</td>\n",
       "      <td>113</td>\n",
       "      <td>7.5</td>\n",
       "      <td>Pierre Niney</td>\n",
       "      <td>6634</td>\n",
       "      <td>François Ozon</td>\n",
       "      <td>2016</td>\n",
       "    </tr>\n",
       "    <tr>\n",
       "      <th>6813</th>\n",
       "      <td>0.0</td>\n",
       "      <td>Anna Biller Productions</td>\n",
       "      <td>USA</td>\n",
       "      <td>Anna Biller</td>\n",
       "      <td>Comedy</td>\n",
       "      <td>228894.0</td>\n",
       "      <td>The Love Witch</td>\n",
       "      <td>UNRATED</td>\n",
       "      <td>2017-03-10</td>\n",
       "      <td>120</td>\n",
       "      <td>6.2</td>\n",
       "      <td>Samantha Robinson</td>\n",
       "      <td>6054</td>\n",
       "      <td>Anna Biller</td>\n",
       "      <td>2016</td>\n",
       "    </tr>\n",
       "    <tr>\n",
       "      <th>6819</th>\n",
       "      <td>0.0</td>\n",
       "      <td>Les Productions du Trésor</td>\n",
       "      <td>France</td>\n",
       "      <td>Nicole Garcia</td>\n",
       "      <td>Drama</td>\n",
       "      <td>37757.0</td>\n",
       "      <td>From the Land of the Moon</td>\n",
       "      <td>R</td>\n",
       "      <td>2017-07-28</td>\n",
       "      <td>120</td>\n",
       "      <td>6.7</td>\n",
       "      <td>Marion Cotillard</td>\n",
       "      <td>2411</td>\n",
       "      <td>Milena Agus</td>\n",
       "      <td>2016</td>\n",
       "    </tr>\n",
       "  </tbody>\n",
       "</table>\n",
       "<p>1487 rows × 15 columns</p>\n",
       "</div>"
      ],
      "text/plain": [
       "          budget                    company country         director  \\\n",
       "5      6000000.0                    Hemdale      UK     Oliver Stone   \n",
       "29     1900000.0                    Hemdale     USA       Tim Hunter   \n",
       "50      111000.0        Maljack Productions     USA  John McNaughton   \n",
       "60     6000000.0       De Haven Productions      UK   David Anspaugh   \n",
       "85           0.0    Fuji Television Network   Japan    Masanori Hata   \n",
       "...          ...                        ...     ...              ...   \n",
       "6785  21500000.0                         42      UK      Eran Creevy   \n",
       "6791         0.0                   AZ Films   Chile    Pablo Larraín   \n",
       "6802         0.0             Mandarin Films  France    François Ozon   \n",
       "6813         0.0    Anna Biller Productions     USA      Anna Biller   \n",
       "6819         0.0  Les Productions du Trésor  France    Nicole Garcia   \n",
       "\n",
       "          genre        gross                                name   rating  \\\n",
       "5         Drama  138530565.0                             Platoon        R   \n",
       "29        Crime    4600000.0                        River's Edge        R   \n",
       "50    Biography     609939.0  Henry: Portrait of a Serial Killer  UNRATED   \n",
       "60        Drama   28607524.0                            Hoosiers       PG   \n",
       "85    Adventure   13245219.0     The Adventures of Milo and Otis        G   \n",
       "...         ...          ...                                 ...      ...   \n",
       "6785     Action    2280004.0                             Collide    PG-13   \n",
       "6791  Biography     938875.0                              Neruda        R   \n",
       "6802      Drama     880474.0                              Frantz    PG-13   \n",
       "6813     Comedy     228894.0                      The Love Witch  UNRATED   \n",
       "6819      Drama      37757.0           From the Land of the Moon        R   \n",
       "\n",
       "       released  runtime  score                star   votes  \\\n",
       "5    1987-02-06      120    8.1       Charlie Sheen  317585   \n",
       "29   1987-05-08       99    7.1      Crispin Glover   12862   \n",
       "50   1990-09-07       83    7.0      Michael Rooker   25367   \n",
       "60   1987-02-27      114    7.6        Gene Hackman   36604   \n",
       "85   1989-08-25       90    7.1       Kyôko Koizumi    9178   \n",
       "...         ...      ...    ...                 ...     ...   \n",
       "6785 2017-02-24       99    5.7      Nicholas Hoult    9617   \n",
       "6791 2017-03-10      107    7.0  Gael García Bernal    5680   \n",
       "6802 2017-03-15      113    7.5        Pierre Niney    6634   \n",
       "6813 2017-03-10      120    6.2   Samantha Robinson    6054   \n",
       "6819 2017-07-28      120    6.7    Marion Cotillard    2411   \n",
       "\n",
       "                  writer  year  \n",
       "5           Oliver Stone  1986  \n",
       "29          Neal Jimenez  1986  \n",
       "50          Richard Fire  1986  \n",
       "60          Angelo Pizzo  1986  \n",
       "85         Masanori Hata  1986  \n",
       "...                  ...   ...  \n",
       "6785    F. Scott Frazier  2016  \n",
       "6791  Guillermo Calderón  2016  \n",
       "6802       François Ozon  2016  \n",
       "6813         Anna Biller  2016  \n",
       "6819         Milena Agus  2016  \n",
       "\n",
       "[1487 rows x 15 columns]"
      ]
     },
     "execution_count": 11,
     "metadata": {},
     "output_type": "execute_result"
    }
   ],
   "source": [
    "movies_edit[movies_edit['released'].dt.year!=movies_edit['year']]"
   ]
  },
  {
   "cell_type": "markdown",
   "id": "45c118b5",
   "metadata": {},
   "source": [
    "#### ~released year column has year value that doesnt match with the corresponding year value column "
   ]
  },
  {
   "cell_type": "code",
   "execution_count": 12,
   "id": "4fd7f42a",
   "metadata": {},
   "outputs": [],
   "source": [
    "movies_edit.loc[movies_edit['released'].dt.year!=movies_edit['year'],'year']=movies_edit.loc[movies_edit['released'].dt.year!=movies_edit['year']]['released'].dt.year"
   ]
  },
  {
   "cell_type": "code",
   "execution_count": 13,
   "id": "6325357f",
   "metadata": {},
   "outputs": [
    {
     "data": {
      "text/html": [
       "<div>\n",
       "<style scoped>\n",
       "    .dataframe tbody tr th:only-of-type {\n",
       "        vertical-align: middle;\n",
       "    }\n",
       "\n",
       "    .dataframe tbody tr th {\n",
       "        vertical-align: top;\n",
       "    }\n",
       "\n",
       "    .dataframe thead th {\n",
       "        text-align: right;\n",
       "    }\n",
       "</style>\n",
       "<table border=\"1\" class=\"dataframe\">\n",
       "  <thead>\n",
       "    <tr style=\"text-align: right;\">\n",
       "      <th></th>\n",
       "      <th>budget</th>\n",
       "      <th>company</th>\n",
       "      <th>country</th>\n",
       "      <th>director</th>\n",
       "      <th>genre</th>\n",
       "      <th>gross</th>\n",
       "      <th>name</th>\n",
       "      <th>rating</th>\n",
       "      <th>released</th>\n",
       "      <th>runtime</th>\n",
       "      <th>score</th>\n",
       "      <th>star</th>\n",
       "      <th>votes</th>\n",
       "      <th>writer</th>\n",
       "      <th>year</th>\n",
       "    </tr>\n",
       "  </thead>\n",
       "  <tbody>\n",
       "  </tbody>\n",
       "</table>\n",
       "</div>"
      ],
      "text/plain": [
       "Empty DataFrame\n",
       "Columns: [budget, company, country, director, genre, gross, name, rating, released, runtime, score, star, votes, writer, year]\n",
       "Index: []"
      ]
     },
     "execution_count": 13,
     "metadata": {},
     "output_type": "execute_result"
    }
   ],
   "source": [
    "movies_edit[movies_edit['released'].dt.year!=movies_edit['year']]"
   ]
  },
  {
   "cell_type": "markdown",
   "id": "0057798f",
   "metadata": {},
   "source": [
    "#### ~ Now the released column has year value that matches with the corresponding values of  year column "
   ]
  },
  {
   "cell_type": "markdown",
   "id": "dbcf90fe",
   "metadata": {},
   "source": [
    "#### 1) How many movies were released in per year"
   ]
  },
  {
   "cell_type": "code",
   "execution_count": 14,
   "id": "3ed82798",
   "metadata": {
    "scrolled": false
   },
   "outputs": [
    {
     "data": {
      "text/plain": [
       "<AxesSubplot:xlabel='year', ylabel='Density'>"
      ]
     },
     "execution_count": 14,
     "metadata": {},
     "output_type": "execute_result"
    },
    {
     "data": {
      "image/png": "[encoded data removed]",
      "text/plain": [
       "<Figure size 432x288 with 1 Axes>"
      ]
     },
     "metadata": {
      "needs_background": "light"
     },
     "output_type": "display_data"
    }
   ],
   "source": [
    "sns.distplot(movies_edit['year'],bins=5)"
   ]
  },
  {
   "cell_type": "markdown",
   "id": "e77416b9",
   "metadata": {},
   "source": [
    "#### ~ Approximately Same no of movies are released every year"
   ]
  },
  {
   "cell_type": "markdown",
   "id": "35ac0df9",
   "metadata": {},
   "source": [
    "#### 2.Find out the Oldest movie and the company that released the movie. Check out all the movies that the company has released and see the trend in score\n",
    "            "
   ]
  },
  {
   "cell_type": "code",
   "execution_count": 15,
   "id": "5403f0da",
   "metadata": {},
   "outputs": [
    {
     "data": {
      "text/html": [
       "<div>\n",
       "<style scoped>\n",
       "    .dataframe tbody tr th:only-of-type {\n",
       "        vertical-align: middle;\n",
       "    }\n",
       "\n",
       "    .dataframe tbody tr th {\n",
       "        vertical-align: top;\n",
       "    }\n",
       "\n",
       "    .dataframe thead th {\n",
       "        text-align: right;\n",
       "    }\n",
       "</style>\n",
       "<table border=\"1\" class=\"dataframe\">\n",
       "  <thead>\n",
       "    <tr style=\"text-align: right;\">\n",
       "      <th></th>\n",
       "      <th>name</th>\n",
       "      <th>company</th>\n",
       "      <th>released</th>\n",
       "    </tr>\n",
       "  </thead>\n",
       "  <tbody>\n",
       "    <tr>\n",
       "      <th>96</th>\n",
       "      <td>Black Moon Rising</td>\n",
       "      <td>New World Pictures</td>\n",
       "      <td>1986-01-10</td>\n",
       "    </tr>\n",
       "  </tbody>\n",
       "</table>\n",
       "</div>"
      ],
      "text/plain": [
       "                 name             company   released\n",
       "96  Black Moon Rising  New World Pictures 1986-01-10"
      ]
     },
     "execution_count": 15,
     "metadata": {},
     "output_type": "execute_result"
    }
   ],
   "source": [
    "oldest=movies_edit.sort_values('released')\n",
    "oldest[['name','company','released']][:1]"
   ]
  },
  {
   "cell_type": "markdown",
   "id": "9e89878f",
   "metadata": {},
   "source": [
    "#### ~Black Moon Rising is the oldest film and New World Picture was the company that made the film"
   ]
  },
  {
   "cell_type": "code",
   "execution_count": 16,
   "id": "492a469b",
   "metadata": {},
   "outputs": [],
   "source": [
    "oldest_company_set=movies_edit[movies_edit['company']=='New World Pictures']"
   ]
  },
  {
   "cell_type": "code",
   "execution_count": 17,
   "id": "30870b3c",
   "metadata": {},
   "outputs": [
    {
     "data": {
      "text/html": [
       "<div>\n",
       "<style scoped>\n",
       "    .dataframe tbody tr th:only-of-type {\n",
       "        vertical-align: middle;\n",
       "    }\n",
       "\n",
       "    .dataframe tbody tr th {\n",
       "        vertical-align: top;\n",
       "    }\n",
       "\n",
       "    .dataframe thead th {\n",
       "        text-align: right;\n",
       "    }\n",
       "</style>\n",
       "<table border=\"1\" class=\"dataframe\">\n",
       "  <thead>\n",
       "    <tr style=\"text-align: right;\">\n",
       "      <th></th>\n",
       "      <th>budget</th>\n",
       "      <th>company</th>\n",
       "      <th>country</th>\n",
       "      <th>director</th>\n",
       "      <th>genre</th>\n",
       "      <th>gross</th>\n",
       "      <th>name</th>\n",
       "      <th>rating</th>\n",
       "      <th>released</th>\n",
       "      <th>runtime</th>\n",
       "      <th>score</th>\n",
       "      <th>star</th>\n",
       "      <th>votes</th>\n",
       "      <th>writer</th>\n",
       "      <th>year</th>\n",
       "    </tr>\n",
       "  </thead>\n",
       "  <tbody>\n",
       "    <tr>\n",
       "      <th>96</th>\n",
       "      <td>0.0</td>\n",
       "      <td>New World Pictures</td>\n",
       "      <td>USA</td>\n",
       "      <td>Harley Cokeliss</td>\n",
       "      <td>Action</td>\n",
       "      <td>6637565.0</td>\n",
       "      <td>Black Moon Rising</td>\n",
       "      <td>R</td>\n",
       "      <td>1986-01-10</td>\n",
       "      <td>100</td>\n",
       "      <td>5.4</td>\n",
       "      <td>Tommy Lee Jones</td>\n",
       "      <td>4045</td>\n",
       "      <td>John Carpenter</td>\n",
       "      <td>1986</td>\n",
       "    </tr>\n",
       "    <tr>\n",
       "      <th>280</th>\n",
       "      <td>0.0</td>\n",
       "      <td>New World Pictures</td>\n",
       "      <td>USA</td>\n",
       "      <td>Ethan Wiley</td>\n",
       "      <td>Comedy</td>\n",
       "      <td>7800000.0</td>\n",
       "      <td>House II: The Second Story</td>\n",
       "      <td>PG-13</td>\n",
       "      <td>1987-08-28</td>\n",
       "      <td>88</td>\n",
       "      <td>5.4</td>\n",
       "      <td>Arye Gross</td>\n",
       "      <td>8302</td>\n",
       "      <td>Fred Dekker</td>\n",
       "      <td>1987</td>\n",
       "    </tr>\n",
       "    <tr>\n",
       "      <th>347</th>\n",
       "      <td>0.0</td>\n",
       "      <td>New World Pictures</td>\n",
       "      <td>USA</td>\n",
       "      <td>Gary Sherman</td>\n",
       "      <td>Action</td>\n",
       "      <td>7555000.0</td>\n",
       "      <td>Wanted: Dead or Alive</td>\n",
       "      <td>R</td>\n",
       "      <td>1987-01-16</td>\n",
       "      <td>106</td>\n",
       "      <td>5.9</td>\n",
       "      <td>Rutger Hauer</td>\n",
       "      <td>3328</td>\n",
       "      <td>Michael Patrick Goodman</td>\n",
       "      <td>1987</td>\n",
       "    </tr>\n",
       "    <tr>\n",
       "      <th>439</th>\n",
       "      <td>0.0</td>\n",
       "      <td>New World Pictures</td>\n",
       "      <td>USA</td>\n",
       "      <td>Robert Altman</td>\n",
       "      <td>Comedy</td>\n",
       "      <td>790000.0</td>\n",
       "      <td>Beyond Therapy</td>\n",
       "      <td>R</td>\n",
       "      <td>1987-04-01</td>\n",
       "      <td>93</td>\n",
       "      <td>4.7</td>\n",
       "      <td>Julie Hagerty</td>\n",
       "      <td>944</td>\n",
       "      <td>Christopher Durang</td>\n",
       "      <td>1987</td>\n",
       "    </tr>\n",
       "    <tr>\n",
       "      <th>445</th>\n",
       "      <td>3000000.0</td>\n",
       "      <td>New World Pictures</td>\n",
       "      <td>USA</td>\n",
       "      <td>Michael Lehmann</td>\n",
       "      <td>Comedy</td>\n",
       "      <td>1108462.0</td>\n",
       "      <td>Heathers</td>\n",
       "      <td>R</td>\n",
       "      <td>1989-03-31</td>\n",
       "      <td>103</td>\n",
       "      <td>7.3</td>\n",
       "      <td>Winona Ryder</td>\n",
       "      <td>67238</td>\n",
       "      <td>Daniel Waters</td>\n",
       "      <td>1989</td>\n",
       "    </tr>\n",
       "    <tr>\n",
       "      <th>727</th>\n",
       "      <td>7000000.0</td>\n",
       "      <td>New World Pictures</td>\n",
       "      <td>USA</td>\n",
       "      <td>Steve Miner</td>\n",
       "      <td>Action</td>\n",
       "      <td>9094451.0</td>\n",
       "      <td>Warlock</td>\n",
       "      <td>R</td>\n",
       "      <td>1991-01-11</td>\n",
       "      <td>103</td>\n",
       "      <td>6.2</td>\n",
       "      <td>Julian Sands</td>\n",
       "      <td>12449</td>\n",
       "      <td>David Twohy</td>\n",
       "      <td>1991</td>\n",
       "    </tr>\n",
       "    <tr>\n",
       "      <th>926</th>\n",
       "      <td>0.0</td>\n",
       "      <td>New World Pictures</td>\n",
       "      <td>USA</td>\n",
       "      <td>Tony Scott</td>\n",
       "      <td>Action</td>\n",
       "      <td>15650000.0</td>\n",
       "      <td>Revenge</td>\n",
       "      <td>R</td>\n",
       "      <td>1990-02-16</td>\n",
       "      <td>124</td>\n",
       "      <td>6.2</td>\n",
       "      <td>Kevin Costner</td>\n",
       "      <td>13517</td>\n",
       "      <td>Jim Harrison</td>\n",
       "      <td>1990</td>\n",
       "    </tr>\n",
       "  </tbody>\n",
       "</table>\n",
       "</div>"
      ],
      "text/plain": [
       "        budget             company country         director   genre  \\\n",
       "96         0.0  New World Pictures     USA  Harley Cokeliss  Action   \n",
       "280        0.0  New World Pictures     USA      Ethan Wiley  Comedy   \n",
       "347        0.0  New World Pictures     USA     Gary Sherman  Action   \n",
       "439        0.0  New World Pictures     USA    Robert Altman  Comedy   \n",
       "445  3000000.0  New World Pictures     USA  Michael Lehmann  Comedy   \n",
       "727  7000000.0  New World Pictures     USA      Steve Miner  Action   \n",
       "926        0.0  New World Pictures     USA       Tony Scott  Action   \n",
       "\n",
       "          gross                        name rating   released  runtime  score  \\\n",
       "96    6637565.0           Black Moon Rising      R 1986-01-10      100    5.4   \n",
       "280   7800000.0  House II: The Second Story  PG-13 1987-08-28       88    5.4   \n",
       "347   7555000.0       Wanted: Dead or Alive      R 1987-01-16      106    5.9   \n",
       "439    790000.0              Beyond Therapy      R 1987-04-01       93    4.7   \n",
       "445   1108462.0                    Heathers      R 1989-03-31      103    7.3   \n",
       "727   9094451.0                     Warlock      R 1991-01-11      103    6.2   \n",
       "926  15650000.0                     Revenge      R 1990-02-16      124    6.2   \n",
       "\n",
       "                star  votes                   writer  year  \n",
       "96   Tommy Lee Jones   4045           John Carpenter  1986  \n",
       "280       Arye Gross   8302              Fred Dekker  1987  \n",
       "347     Rutger Hauer   3328  Michael Patrick Goodman  1987  \n",
       "439    Julie Hagerty    944       Christopher Durang  1987  \n",
       "445     Winona Ryder  67238            Daniel Waters  1989  \n",
       "727     Julian Sands  12449              David Twohy  1991  \n",
       "926    Kevin Costner  13517             Jim Harrison  1990  "
      ]
     },
     "execution_count": 17,
     "metadata": {},
     "output_type": "execute_result"
    }
   ],
   "source": [
    "oldest_company_set"
   ]
  },
  {
   "cell_type": "code",
   "execution_count": 18,
   "id": "c8935d5a",
   "metadata": {},
   "outputs": [
    {
     "data": {
      "text/plain": [
       "Text(0, 0.5, 'Score')"
      ]
     },
     "execution_count": 18,
     "metadata": {},
     "output_type": "execute_result"
    },
    {
     "data": {
      "image/png": "[encoded data removed]",
      "text/plain": [
       "<Figure size 432x288 with 1 Axes>"
      ]
     },
     "metadata": {
      "needs_background": "light"
     },
     "output_type": "display_data"
    }
   ],
   "source": [
    "plt.scatter(x=oldest_company_set['year'],y=oldest_company_set['score'])\n",
    "plt.ylabel('Score')"
   ]
  },
  {
   "cell_type": "markdown",
   "id": "ad14a652",
   "metadata": {},
   "source": [
    "#### ~ New World Pictures had better scores as time passed."
   ]
  },
  {
   "cell_type": "markdown",
   "id": "626a4860",
   "metadata": {},
   "source": [
    "#### 3. Top 3 Companies with the most released movies"
   ]
  },
  {
   "cell_type": "code",
   "execution_count": 19,
   "id": "a47b4b4f",
   "metadata": {},
   "outputs": [
    {
     "data": {
      "text/plain": [
       "Index(['Universal Pictures', 'Warner Bros.', 'Paramount Pictures'], dtype='object')"
      ]
     },
     "execution_count": 19,
     "metadata": {},
     "output_type": "execute_result"
    }
   ],
   "source": [
    "company_count=movies_edit['company'].value_counts()\n",
    "company=pd.DataFrame(company_count)\n",
    "top_company=company.head(3)\n",
    "top_company.index"
   ]
  },
  {
   "cell_type": "code",
   "execution_count": 20,
   "id": "4e917cbb",
   "metadata": {},
   "outputs": [
    {
     "data": {
      "text/html": [
       "<div>\n",
       "<style scoped>\n",
       "    .dataframe tbody tr th:only-of-type {\n",
       "        vertical-align: middle;\n",
       "    }\n",
       "\n",
       "    .dataframe tbody tr th {\n",
       "        vertical-align: top;\n",
       "    }\n",
       "\n",
       "    .dataframe thead th {\n",
       "        text-align: right;\n",
       "    }\n",
       "</style>\n",
       "<table border=\"1\" class=\"dataframe\">\n",
       "  <thead>\n",
       "    <tr style=\"text-align: right;\">\n",
       "      <th></th>\n",
       "      <th>company</th>\n",
       "    </tr>\n",
       "  </thead>\n",
       "  <tbody>\n",
       "    <tr>\n",
       "      <th>Universal Pictures</th>\n",
       "      <td>302</td>\n",
       "    </tr>\n",
       "    <tr>\n",
       "      <th>Warner Bros.</th>\n",
       "      <td>294</td>\n",
       "    </tr>\n",
       "    <tr>\n",
       "      <th>Paramount Pictures</th>\n",
       "      <td>259</td>\n",
       "    </tr>\n",
       "  </tbody>\n",
       "</table>\n",
       "</div>"
      ],
      "text/plain": [
       "                    company\n",
       "Universal Pictures      302\n",
       "Warner Bros.            294\n",
       "Paramount Pictures      259"
      ]
     },
     "execution_count": 20,
     "metadata": {},
     "output_type": "execute_result"
    }
   ],
   "source": [
    "top_company"
   ]
  },
  {
   "cell_type": "markdown",
   "id": "790d9bd0",
   "metadata": {},
   "source": [
    "#### ~Top 3 companies with the most released movies are 'Universal Pictures', 'Warner Bros.', 'Paramount Pictures'."
   ]
  },
  {
   "cell_type": "markdown",
   "id": "6548122d",
   "metadata": {},
   "source": [
    "#### 4.avg score that each of these companies get for their movies"
   ]
  },
  {
   "cell_type": "code",
   "execution_count": 21,
   "id": "ea0cc1e0",
   "metadata": {},
   "outputs": [],
   "source": [
    "top_company_info=movies_edit[movies_edit['company'].isin(['Universal Pictures','Warner Bros.','Paramount Pictures'])]"
   ]
  },
  {
   "cell_type": "code",
   "execution_count": 22,
   "id": "1784ad06",
   "metadata": {},
   "outputs": [
    {
     "data": {
      "text/plain": [
       "(855, 15)"
      ]
     },
     "execution_count": 22,
     "metadata": {},
     "output_type": "execute_result"
    }
   ],
   "source": [
    "top_company_info.shape"
   ]
  },
  {
   "cell_type": "code",
   "execution_count": 23,
   "id": "559bd427",
   "metadata": {},
   "outputs": [
    {
     "data": {
      "text/plain": [
       "company\n",
       "Paramount Pictures    6.30\n",
       "Universal Pictures    6.40\n",
       "Warner Bros.          6.45\n",
       "Name: score, dtype: float64"
      ]
     },
     "execution_count": 23,
     "metadata": {},
     "output_type": "execute_result"
    }
   ],
   "source": [
    "top_company_info.groupby('company')['score'].median()"
   ]
  },
  {
   "cell_type": "code",
   "execution_count": 24,
   "id": "b697b943",
   "metadata": {},
   "outputs": [
    {
     "data": {
      "text/plain": [
       "<AxesSubplot:xlabel='company', ylabel='score'>"
      ]
     },
     "execution_count": 24,
     "metadata": {},
     "output_type": "execute_result"
    },
    {
     "data": {
      "image/png": "[encoded data removed]",
      "text/plain": [
       "<Figure size 432x288 with 1 Axes>"
      ]
     },
     "metadata": {
      "needs_background": "light"
     },
     "output_type": "display_data"
    }
   ],
   "source": [
    "sns.boxplot(x='company',y='score',data=top_company_info)"
   ]
  },
  {
   "cell_type": "markdown",
   "id": "12688714",
   "metadata": {},
   "source": [
    "#### ~The average score these companies get is around  6.3\n",
    "#### ~ According to the boxplot Warner Bros seems to be getting higher scores for their movies since the upper whisker is at 9 and 75 percent of their movies score a little above 7. There is also higher variablity in Warner Bros compared to Paramount Pictures and Universal Pictures Company"
   ]
  },
  {
   "cell_type": "markdown",
   "id": "0eafb538",
   "metadata": {},
   "source": [
    "#### 5. Let us also look at the avg gross revenue of the three companies"
   ]
  },
  {
   "cell_type": "code",
   "execution_count": 25,
   "id": "ffbed3f8",
   "metadata": {},
   "outputs": [
    {
     "data": {
      "text/plain": [
       "company\n",
       "Paramount Pictures    6.608379e+07\n",
       "Universal Pictures    6.433792e+07\n",
       "Warner Bros.          7.252489e+07\n",
       "Name: gross, dtype: float64"
      ]
     },
     "execution_count": 25,
     "metadata": {},
     "output_type": "execute_result"
    }
   ],
   "source": [
    "top_company_info.groupby('company')['gross'].mean()"
   ]
  },
  {
   "cell_type": "markdown",
   "id": "3ef07085",
   "metadata": {},
   "source": [
    "#### ~ Warner Bros are averaging a higher gross revenue compared to the other two companies"
   ]
  },
  {
   "cell_type": "markdown",
   "id": "468518f9",
   "metadata": {},
   "source": [
    "#### 6. Correlation analysis"
   ]
  },
  {
   "cell_type": "code",
   "execution_count": 26,
   "id": "8afc92f0",
   "metadata": {},
   "outputs": [
    {
     "data": {
      "image/png": "[encoded data removed]",
      "text/plain": [
       "<Figure size 1080x504 with 2 Axes>"
      ]
     },
     "metadata": {
      "needs_background": "light"
     },
     "output_type": "display_data"
    }
   ],
   "source": [
    "sns.heatmap(movies_edit.corr(), annot = True, cmap='cubehelix')\n",
    "plt.gcf().set_size_inches(15, 7)\n",
    "plt.show()"
   ]
  },
  {
   "cell_type": "markdown",
   "id": "311a3c5e",
   "metadata": {},
   "source": [
    "#### ~We see that gross and budget have a moderately positive correlation and so does gross and votes "
   ]
  },
  {
   "cell_type": "markdown",
   "id": "e4c3fc14",
   "metadata": {},
   "source": [
    "#### 7. Movies with score above 8"
   ]
  },
  {
   "cell_type": "code",
   "execution_count": 27,
   "id": "09594f4f",
   "metadata": {},
   "outputs": [
    {
     "data": {
      "text/html": [
       "<div>\n",
       "<style scoped>\n",
       "    .dataframe tbody tr th:only-of-type {\n",
       "        vertical-align: middle;\n",
       "    }\n",
       "\n",
       "    .dataframe tbody tr th {\n",
       "        vertical-align: top;\n",
       "    }\n",
       "\n",
       "    .dataframe thead th {\n",
       "        text-align: right;\n",
       "    }\n",
       "</style>\n",
       "<table border=\"1\" class=\"dataframe\">\n",
       "  <thead>\n",
       "    <tr style=\"text-align: right;\">\n",
       "      <th></th>\n",
       "      <th>country</th>\n",
       "      <th>director</th>\n",
       "      <th>name</th>\n",
       "      <th>score</th>\n",
       "    </tr>\n",
       "  </thead>\n",
       "  <tbody>\n",
       "    <tr>\n",
       "      <th>1760</th>\n",
       "      <td>USA</td>\n",
       "      <td>Frank Darabont</td>\n",
       "      <td>The Shawshank Redemption</td>\n",
       "      <td>9.3</td>\n",
       "    </tr>\n",
       "    <tr>\n",
       "      <th>4840</th>\n",
       "      <td>USA</td>\n",
       "      <td>Christopher Nolan</td>\n",
       "      <td>The Dark Knight</td>\n",
       "      <td>9.0</td>\n",
       "    </tr>\n",
       "    <tr>\n",
       "      <th>1542</th>\n",
       "      <td>USA</td>\n",
       "      <td>Steven Spielberg</td>\n",
       "      <td>Schindler's List</td>\n",
       "      <td>8.9</td>\n",
       "    </tr>\n",
       "    <tr>\n",
       "      <th>1761</th>\n",
       "      <td>USA</td>\n",
       "      <td>Quentin Tarantino</td>\n",
       "      <td>Pulp Fiction</td>\n",
       "      <td>8.9</td>\n",
       "    </tr>\n",
       "    <tr>\n",
       "      <th>3743</th>\n",
       "      <td>USA</td>\n",
       "      <td>Peter Jackson</td>\n",
       "      <td>The Lord of the Rings: The Return of the King</td>\n",
       "      <td>8.9</td>\n",
       "    </tr>\n",
       "    <tr>\n",
       "      <th>...</th>\n",
       "      <td>...</td>\n",
       "      <td>...</td>\n",
       "      <td>...</td>\n",
       "      <td>...</td>\n",
       "    </tr>\n",
       "    <tr>\n",
       "      <th>3741</th>\n",
       "      <td>USA</td>\n",
       "      <td>Gore Verbinski</td>\n",
       "      <td>Pirates of the Caribbean: The Curse of the Bla...</td>\n",
       "      <td>8.0</td>\n",
       "    </tr>\n",
       "    <tr>\n",
       "      <th>3597</th>\n",
       "      <td>Spain</td>\n",
       "      <td>Pedro Almodóvar</td>\n",
       "      <td>Talk to Her</td>\n",
       "      <td>8.0</td>\n",
       "    </tr>\n",
       "    <tr>\n",
       "      <th>3439</th>\n",
       "      <td>France</td>\n",
       "      <td>Danis Tanovic</td>\n",
       "      <td>Tierra de nadie</td>\n",
       "      <td>8.0</td>\n",
       "    </tr>\n",
       "    <tr>\n",
       "      <th>3303</th>\n",
       "      <td>France</td>\n",
       "      <td>David Lynch</td>\n",
       "      <td>Mulholland Drive</td>\n",
       "      <td>8.0</td>\n",
       "    </tr>\n",
       "    <tr>\n",
       "      <th>6727</th>\n",
       "      <td>Ireland</td>\n",
       "      <td>John Carney</td>\n",
       "      <td>Sing street; este es tu momento</td>\n",
       "      <td>8.0</td>\n",
       "    </tr>\n",
       "  </tbody>\n",
       "</table>\n",
       "<p>240 rows × 4 columns</p>\n",
       "</div>"
      ],
      "text/plain": [
       "      country           director  \\\n",
       "1760      USA     Frank Darabont   \n",
       "4840      USA  Christopher Nolan   \n",
       "1542      USA   Steven Spielberg   \n",
       "1761      USA  Quentin Tarantino   \n",
       "3743      USA      Peter Jackson   \n",
       "...       ...                ...   \n",
       "3741      USA     Gore Verbinski   \n",
       "3597    Spain    Pedro Almodóvar   \n",
       "3439   France      Danis Tanovic   \n",
       "3303   France        David Lynch   \n",
       "6727  Ireland        John Carney   \n",
       "\n",
       "                                                   name  score  \n",
       "1760                           The Shawshank Redemption    9.3  \n",
       "4840                                    The Dark Knight    9.0  \n",
       "1542                                   Schindler's List    8.9  \n",
       "1761                                       Pulp Fiction    8.9  \n",
       "3743      The Lord of the Rings: The Return of the King    8.9  \n",
       "...                                                 ...    ...  \n",
       "3741  Pirates of the Caribbean: The Curse of the Bla...    8.0  \n",
       "3597                                        Talk to Her    8.0  \n",
       "3439                                    Tierra de nadie    8.0  \n",
       "3303                                   Mulholland Drive    8.0  \n",
       "6727                    Sing street; este es tu momento    8.0  \n",
       "\n",
       "[240 rows x 4 columns]"
      ]
     },
     "execution_count": 27,
     "metadata": {},
     "output_type": "execute_result"
    }
   ],
   "source": [
    "high_score_set=movies_edit.query('score>7.9')\n",
    "desc_sorted_score=high_score_set.sort_values('score',ascending=False)\n",
    "desc_sorted_score[['country','director','name','score']]"
   ]
  },
  {
   "cell_type": "markdown",
   "id": "1e1e4617",
   "metadata": {},
   "source": [
    "#### ~Shawshank Redemption has the highest score \n",
    "#### ~There are 240 movies with a score greater than or equal to 8.0"
   ]
  },
  {
   "cell_type": "markdown",
   "id": "2eddfbe6",
   "metadata": {},
   "source": [
    "#### 8.Let us see which director is the most consistent in terms of quality of movie"
   ]
  },
  {
   "cell_type": "code",
   "execution_count": 28,
   "id": "72254dd2",
   "metadata": {},
   "outputs": [
    {
     "data": {
      "text/plain": [
       "Christopher Nolan    7\n",
       "Quentin Tarantino    6\n",
       "Martin Scorsese      5\n",
       "Steven Spielberg     5\n",
       "Clint Eastwood       4\n",
       "David Fincher        3\n",
       "Brad Bird            3\n",
       "Pete Docter          3\n",
       "Hayao Miyazaki       3\n",
       "Peter Jackson        3\n",
       "Name: director, dtype: int64"
      ]
     },
     "execution_count": 28,
     "metadata": {},
     "output_type": "execute_result"
    }
   ],
   "source": [
    "desc_sorted_score['director'].value_counts()[:10]"
   ]
  },
  {
   "cell_type": "markdown",
   "id": "a69743bf",
   "metadata": {},
   "source": [
    "#### ~Christopher Nolan seems to have the most 8.0 above rating movies among the directors.But that could be because he hasn't produced many films.So let us compare the percentages now with the top 4 directors."
   ]
  },
  {
   "cell_type": "code",
   "execution_count": 29,
   "id": "1212824e",
   "metadata": {
    "scrolled": true
   },
   "outputs": [
    {
     "name": "stdout",
     "output_type": "stream",
     "text": [
      "The number of movies that Christopher Nolan produced = 9\n",
      "The number of movies that Quentin Tarantino produced = 8\n",
      "The number of movies that Martin Scorsese produced = 15\n",
      "The number of movies that Steven Spielberg produced = 21\n"
     ]
    },
    {
     "data": {
      "text/plain": [
       "{'Christopher Nolan': 77.77777777777779,\n",
       " 'Quentin Tarantino': 75.0,\n",
       " 'Martin Scorsese': 33.33333333333333,\n",
       " 'Steven Spielberg': 23.809523809523807}"
      ]
     },
     "metadata": {},
     "output_type": "display_data"
    },
    {
     "name": "stdout",
     "output_type": "stream",
     "text": [
      "The percentage of movies that Christopher Nolan has produced that are above 8.0 score is 77.77777777777779 %\n",
      "The percentage of movies that Quentin Tarantino has produced that are above 8.0 score is 75.0 %\n",
      "The percentage of movies that Martin Scorsese has produced that are above 8.0 score is 33.33333333333333 %\n",
      "The percentage of movies that Steven Spielberg has produced that are above 8.0 score is 23.809523809523807 %\n"
     ]
    }
   ],
   "source": [
    "top_directors={'Christopher Nolan':0,'Quentin Tarantino':0,'Martin Scorsese':0,'Steven Spielberg':0}\n",
    "for i in top_directors.keys():\n",
    "    dir_movies=movies_edit[movies_edit['director']==i]\n",
    "    no_of_movies=len(dir_movies)\n",
    "    print('The number of movies that',''.join(dir_movies['director'].unique()),'produced =',no_of_movies)\n",
    "    percentt=(len(dir_movies.query('score>7.9'))/len(dir_movies))*100\n",
    "    top_directors[i]=percentt\n",
    "display(top_directors)\n",
    "for i,j in top_directors.items():\n",
    "    print('The percentage of movies that',i,'has produced that are above 8.0 score is',j,'%')"
   ]
  },
  {
   "cell_type": "markdown",
   "id": "ba3dc085",
   "metadata": {},
   "source": [
    "#### ~Chritopher Nolan and Quentin Tarantino seem to be very consistent in the quality of films they produce .But they also havent produced too many films\n"
   ]
  },
  {
   "cell_type": "markdown",
   "id": "81c4eaf7",
   "metadata": {},
   "source": [
    "#### 9.Which genre has the most number of 8.0 and above score"
   ]
  },
  {
   "cell_type": "code",
   "execution_count": 30,
   "id": "a37a898a",
   "metadata": {},
   "outputs": [
    {
     "data": {
      "text/plain": [
       "[Text(0.5, 0, 'No of genre above 8')]"
      ]
     },
     "execution_count": 30,
     "metadata": {},
     "output_type": "execute_result"
    },
    {
     "data": {
      "image/png": "[encoded data removed]",
      "text/plain": [
       "<Figure size 432x288 with 1 Axes>"
      ]
     },
     "metadata": {
      "needs_background": "light"
     },
     "output_type": "display_data"
    }
   ],
   "source": [
    "g=sns.countplot(y='genre',data=high_score_set)\n",
    "g.set_title('Total genre')\n",
    "g.set(xlabel='No of genre above 8')"
   ]
  },
  {
   "cell_type": "markdown",
   "id": "305fcfba",
   "metadata": {},
   "source": [
    "#### ~We see that Drama genre has the most number of 8.0 and above score"
   ]
  },
  {
   "cell_type": "markdown",
   "id": "6a97c465",
   "metadata": {},
   "source": [
    "#### 10. Movie stars who have starred in the most number of 8.0 and above score movies"
   ]
  },
  {
   "cell_type": "code",
   "execution_count": 31,
   "id": "4fa324d5",
   "metadata": {},
   "outputs": [
    {
     "data": {
      "text/plain": [
       "Leonardo DiCaprio     7\n",
       "Aamir Khan            6\n",
       "Tom Hanks             5\n",
       "Christian Bale        4\n",
       "Russell Crowe         3\n",
       "                     ..\n",
       "Eli Marienthal        1\n",
       "Richard Farnsworth    1\n",
       "Hossein Mahjoub       1\n",
       "Ellen Burstyn         1\n",
       "Ferdia Walsh-Peelo    1\n",
       "Name: star, Length: 194, dtype: int64"
      ]
     },
     "execution_count": 31,
     "metadata": {},
     "output_type": "execute_result"
    }
   ],
   "source": [
    "high_score_set['star'].value_counts()"
   ]
  },
  {
   "cell_type": "markdown",
   "id": "8f9fd023",
   "metadata": {},
   "source": [
    "#### ~ Leonardo Dicaprio has starred in the most number of 8.0 aboce score movies "
   ]
  },
  {
   "cell_type": "markdown",
   "id": "d65890ab",
   "metadata": {},
   "source": [
    "#### 11.Top 3 Countries with the most number of movies released"
   ]
  },
  {
   "cell_type": "code",
   "execution_count": 32,
   "id": "de590d39",
   "metadata": {},
   "outputs": [
    {
     "data": {
      "text/plain": [
       "USA       4872\n",
       "UK         698\n",
       "France     283\n",
       "Name: country, dtype: int64"
      ]
     },
     "execution_count": 32,
     "metadata": {},
     "output_type": "execute_result"
    }
   ],
   "source": [
    "top_countries=movies_edit['country'].value_counts(ascending=False)[:3]\n",
    "top_countries"
   ]
  },
  {
   "cell_type": "markdown",
   "id": "eec2ac0a",
   "metadata": {},
   "source": [
    "#### ~USA,UK,France are the countries with the most number of movies released"
   ]
  },
  {
   "cell_type": "code",
   "execution_count": 33,
   "id": "336bcbd0",
   "metadata": {},
   "outputs": [],
   "source": [
    "top_country_set=pd.DataFrame(top_countries)\n",
    "top_country_info=movies_edit[movies_edit['country'].isin(['USA','UK','France'])]"
   ]
  },
  {
   "cell_type": "code",
   "execution_count": 34,
   "id": "4d2b0b54",
   "metadata": {},
   "outputs": [
    {
     "data": {
      "text/plain": [
       "<AxesSubplot:xlabel='country', ylabel='count'>"
      ]
     },
     "execution_count": 34,
     "metadata": {},
     "output_type": "execute_result"
    },
    {
     "data": {
      "image/png": "[encoded data removed]",
      "text/plain": [
       "<Figure size 432x288 with 1 Axes>"
      ]
     },
     "metadata": {
      "needs_background": "light"
     },
     "output_type": "display_data"
    }
   ],
   "source": [
    "sns.countplot(x='country',data=top_country_info)"
   ]
  },
  {
   "cell_type": "markdown",
   "id": "97d89edd",
   "metadata": {},
   "source": [
    "## Conclusions\n",
    "#### ~The average film duration is 1hr 46 mins\n",
    "#### ~This dataset contains information ranging from 1986 - 2016\n",
    "#### ~The average rating for the movies present in this dataset is 6.3\n",
    "#### ~ Approximately Same no of movies are released every year\n",
    "#### ~Black Moon Rising is the oldest film and New World Picture was the company that made the film.New World Pictures had better scores as time passed.\n",
    "#### ~Top 3 companies with the most released movies are 'Universal Pictures', 'Warner Bros.', 'Paramount Pictures'.\n",
    "#### ~The average score these companies get is around  6.3\n",
    "#### ~ According to the boxplot Warner Bros seems to be getting higher scores for their movies since the upper whisker is at 9 and 75 percent of their movies score a little above 7. There is also higher variablity in Warner Bros compared to Paramount Pictures and Universal Pictures Company\n",
    "#### ~ Warner Bros are averaging a higher gross revenue compared to the other two companies\n",
    "#### ~We see that gross and budget have a moderately positive correlation and so does gross and votes \n",
    "#### ~Shawshank Redemption has the highest score \n",
    "#### ~There are 240 movies with a score greater than or equal to 8.0\n",
    "#### ~Christopher Nolan seems to have the most 8.0 above rating movies among the directors.But that could be because he hasn't produced many films.So let us compare the percentages now with the top 4 directors.\n",
    "#### ~Chritopher Nolan and Quentin Tarantino seem to be very consistent in the quality of films they produce .But they also havent produced too many films\n",
    "#### ~We see that Drama genre has the most number of 8.0 and above score\n",
    "#### ~ Leonardo Dicaprio has starred in the most number of 8.0 aboce score movies \n",
    "#### ~USA,UK,France are the countries with the most number of movies released\n"
   ]
  },
  {
   "cell_type": "code",
   "execution_count": null,
   "id": "dd78a46a",
   "metadata": {},
   "outputs": [],
   "source": []
  },
  {
   "cell_type": "code",
   "execution_count": null,
   "id": "84840921",
   "metadata": {},
   "outputs": [],
   "source": []
  }
 ],
 "metadata": {
  "kernelspec": {
   "display_name": "geo_env",
   "language": "python",
   "name": "geo_env"
  },
  "language_info": {
   "codemirror_mode": {
    "name": "ipython",
    "version": 3
   },
   "file_extension": ".py",
   "mimetype": "text/x-python",
   "name": "python",
   "nbconvert_exporter": "python",
   "pygments_lexer": "ipython3",
   "version": "3.9.6"
  }
 },
 "nbformat": 4,
 "nbformat_minor": 5
}
